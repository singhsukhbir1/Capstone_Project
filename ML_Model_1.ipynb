{
 "cells": [
  {
   "cell_type": "code",
   "execution_count": null,
   "metadata": {},
   "outputs": [],
   "source": [
    "import pandas as pd\n",
    "from sqlalchemy import create_engine\n",
    "\n",
    "# Scikit-Learn and Shallow Learning\n",
    "from sklearn.model_selection import train_test_split\n",
    "from sklearn.preprocessing import StandardScaler\n",
    "from sklearn.ensemble import RandomForestRegressor\n",
    "from sklearn.linear_model import LinearRegression\n",
    "from sklearn import metrics\n",
    "from sklearn.metrics import mean_squared_error, mean_absolute_error\n",
    "from sklearn import preprocessing\n",
    "\n",
    "# Data manipulation and processing\n",
    "import pandas as pd\n",
    "import numpy as np\n",
    "\n",
    "# Visualization\n",
    "import matplotlib.pyplot as plt\n",
    "\n",
    "\n",
    "\n"
   ]
  },
  {
   "cell_type": "code",
   "execution_count": null,
   "metadata": {},
   "outputs": [],
   "source": [
    "# TF and Keras-related imports\n",
    "import tensorflow as tf\n",
    "from tensorflow import keras\n",
    "from tensorflow.keras import layers"
   ]
  },
  {
   "cell_type": "code",
   "execution_count": null,
   "metadata": {},
   "outputs": [],
   "source": [
    "# load the csv dataset\n",
    "file_path=\"C:\\\\Users/nisha/Documents/Final_Project/Deliverable_1_Triangle/Images/AmesHousing.csv\"\n",
    "housing_df=pd.read_csv(file_path)\n",
    "housing_df.head()"
   ]
  },
  {
   "cell_type": "code",
   "execution_count": null,
   "metadata": {},
   "outputs": [],
   "source": [
    "housing_df.columns\n",
    "\n"
   ]
  },
  {
   "cell_type": "code",
   "execution_count": null,
   "metadata": {},
   "outputs": [],
   "source": [
    "# drop Nan values from the df\n",
    "housing_df=housing_df.drop(columns=[\"Alley\",\"Pool QC\",\"Fence\",\"Misc Feature\"])\n",
    "housing_df.head()"
   ]
  },
  {
   "cell_type": "code",
   "execution_count": null,
   "metadata": {},
   "outputs": [],
   "source": [
    "# Initialize our Shallow Learning Regressors from Scikit-Learn \n",
    "\n",
    "linear_regressor = LinearRegression()\n",
    "dtr = DecisionTreeRegressor() \n",
    "forest = RandomForestRegressor(n = 1100) "
   ]
  },
  {
   "cell_type": "code",
   "execution_count": null,
   "metadata": {},
   "outputs": [],
   "source": [
    "# Fitting our Regressors: \n",
    "\n",
    "linear_regressor.fit(X_train, y_train) \n",
    "dtr.fit(X_train, y_train) \n",
    "forest.fit(X_train, y_train) "
   ]
  },
  {
   "cell_type": "code",
   "execution_count": null,
   "metadata": {},
   "outputs": [],
   "source": [
    "# Making predictions on the test set\n",
    "y_pred_linear = linear_regressor.predict(X_test) \n",
    "y_pred_dtr = dtr.predict(X_test) \n",
    "y_pred_forest = forest.predict(X_test)"
   ]
  },
  {
   "cell_type": "code",
   "execution_count": null,
   "metadata": {},
   "outputs": [],
   "source": [
    "# Loss Functions to Test out:\n",
    "# Regression Losses: \n",
    "# Mean Square Error \n",
    "# Mean Absolute Error / L1 Loss:\n",
    "# Root Mean Squared Error (RMSE)\n",
    "\n",
    "print('LinearRegressor Mean Absolute Error:', metrics.mean_absolute_error(y_test, y_pred_elastic))\n",
    "print('LinearRegressor Mean Squared Error:', metrics.mean_squared_error(y_test, y_pred_elastic))\n",
    "print('LinearRegressor Root Mean Squared Error:', np.sqrt(metrics.mean_squared_error(y_test, y_pred_elastic)))\n",
    "\n",
    "print('\\n')\n",
    "\n",
    "print('DTR Mean Absolute Error:', metrics.mean_absolute_error(y_test, y_pred_dtr))\n",
    "print('DTR Mean Squared Error:', metrics.mean_squared_error(y_test, y_pred_dtr))\n",
    "print('DTR Root Mean Squared Error:', np.sqrt(metrics.mean_squared_error(y_test, y_pred_dtr)))\n",
    "\n",
    "\n",
    "print('\\n')\n",
    "\n",
    "print('RFR Mean Absolute Error:', metrics.mean_absolute_error(y_test, y_pred_forest))\n",
    "print('RFR Mean Squared Error:', metrics.mean_squared_error(y_test, y_pred_forest))\n",
    "print('RFR Root Mean Squared Error:', np.sqrt(metrics.mean_squared_error(y_test, y_pred_forest)))\n",
    "\n"
   ]
  },
  {
   "cell_type": "code",
   "execution_count": null,
   "metadata": {},
   "outputs": [],
   "source": [
    "## Would be a great visual for our dashboard in telling our story and why we chose our decision\n",
    "\n",
    "# We would want to visualize the predicted values in comparison to the real values in the test set: \n",
    "\n",
    "fig, ax = plt.subplots(figsize=(20,10)) \n",
    "\n",
    "# Scatterplots of predictions\n",
    "sns.scatterplot(x=y_test, y=y_pred_elastic, alpha=0.5, lw=1, ec='black', ax=ax, label='ElasticNet')\n",
    "sns.scatterplot(x=y_test, y=y_pred_dtr, alpha=0.5, lw=1, ec='black', ax=ax, label='Decision Tree')\n",
    "sns.scatterplot(x=y_test, y=y_pred_forest, alpha=0.5, lw=1, ec='black', ax=ax, label='Random Forest')\n",
    "\n",
    "# Diagonal reference line\n",
    "lims = [0, max(y_test.max(), y_test.max())]\n",
    "\n",
    "# Visual: \n",
    "plt.show()"
   ]
  },
  {
   "cell_type": "code",
   "execution_count": null,
   "metadata": {},
   "outputs": [],
   "source": [
    "### Next Steps for Del 2\n",
    "\n",
    "# Selecting an Optimizer: \n",
    "\n",
    "# still undecided "
   ]
  },
  {
   "cell_type": "code",
   "execution_count": null,
   "metadata": {},
   "outputs": [],
   "source": [
    "# Decide on Loss Function:\n",
    "\n",
    "# 1. Mean Absolute Error (MAE) \n",
    "# 2. Mean Squared Error (MSE) \n",
    "# 3. Root Mean Squared Error (RMSE)\n",
    "# 4. Mean Absolute Percentage Error (MAPE)\n",
    "\n",
    "# Importance of Loss Function Decision: The metric that we use will let us know whether our model is doing well or not, and then we align the metric to the loss function\n"
   ]
  },
  {
   "cell_type": "code",
   "execution_count": null,
   "metadata": {},
   "outputs": [],
   "source": [
    "# Training a simple neural network  and compare our loss function selection\n"
   ]
  },
  {
   "cell_type": "code",
   "execution_count": null,
   "metadata": {},
   "outputs": [],
   "source": []
  },
  {
   "cell_type": "code",
   "execution_count": null,
   "metadata": {},
   "outputs": [],
   "source": [
    " \n",
    "\n"
   ]
  },
  {
   "cell_type": "code",
   "execution_count": null,
   "metadata": {},
   "outputs": [],
   "source": []
  },
  {
   "cell_type": "code",
   "execution_count": null,
   "metadata": {},
   "outputs": [],
   "source": []
  },
  {
   "cell_type": "code",
   "execution_count": null,
   "metadata": {},
   "outputs": [],
   "source": [
    "\n"
   ]
  },
  {
   "cell_type": "code",
   "execution_count": null,
   "metadata": {},
   "outputs": [],
   "source": []
  },
  {
   "cell_type": "code",
   "execution_count": null,
   "metadata": {},
   "outputs": [],
   "source": []
  },
  {
   "cell_type": "code",
   "execution_count": null,
   "metadata": {},
   "outputs": [],
   "source": []
  },
  {
   "cell_type": "code",
   "execution_count": null,
   "metadata": {},
   "outputs": [],
   "source": []
  },
  {
   "cell_type": "code",
   "execution_count": null,
   "metadata": {},
   "outputs": [],
   "source": []
  },
  {
   "cell_type": "code",
   "execution_count": null,
   "metadata": {},
   "outputs": [],
   "source": []
  }
 ],
 "metadata": {
  "kernelspec": {
   "display_name": "hope",
   "language": "python",
   "name": "hope"
  },
  "language_info": {
   "codemirror_mode": {
    "name": "ipython",
    "version": 3
   },
   "file_extension": ".py",
   "mimetype": "text/x-python",
   "name": "python",
   "nbconvert_exporter": "python",
   "pygments_lexer": "ipython3",
   "version": "3.7.13"
  }
 },
 "nbformat": 4,
 "nbformat_minor": 4
}
