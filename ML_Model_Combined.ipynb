{
 "cells": [
  {
   "cell_type": "markdown",
   "id": "70f40aac",
   "metadata": {},
   "source": [
    "# NEED to run this command in your environment \n",
    "# pip install psycopg2-binary"
   ]
  },
  {
   "cell_type": "code",
   "execution_count": null,
   "id": "d8288835",
   "metadata": {},
   "outputs": [],
   "source": [
    "# import the dependencies\n",
    "import psycopg2\n",
    "import pandas as pd\n",
    "import numpy as np\n",
    "# Visualization\n",
    "import matplotlib.pyplot as plt\n",
    "import seaborn as sns"
   ]
  },
  {
   "cell_type": "code",
   "execution_count": 2,
   "id": "975f0e5d",
   "metadata": {},
   "outputs": [],
   "source": [
    "# Scikit-Learn and Shallow Learning\n",
    "from sklearn.model_selection import train_test_split\n",
    "from sklearn.preprocessing import StandardScaler\n",
    "from sklearn.ensemble import RandomForestRegressor\n",
    "from sklearn.linear_model import LinearRegression\n",
    "from sklearn import metrics\n",
    "from sklearn.metrics import mean_squared_error, mean_absolute_error\n",
    "from sklearn import preprocessing"
   ]
  },
  {
   "cell_type": "code",
   "execution_count": null,
   "id": "90903d44",
   "metadata": {},
   "outputs": [],
   "source": [
    "# TF and Keras-related imports\n",
    "import tensorflow as tf\n",
    "from tensorflow import keras\n",
    "from tensorflow.keras import layers"
   ]
  },
  {
   "cell_type": "code",
   "execution_count": null,
   "id": "c822500a",
   "metadata": {},
   "outputs": [],
   "source": [
    "# make the connection string to AWS RDS Database\n",
    "conn_string=\"host=housingaws-db.cnvxuytbvp1m.us-east-1.rds.amazonaws.com\" +\" port=5432\" +\" dbname=housing_database\"+\" user=postgres\"  \\\n",
    "                  +\" password=team2data\"\n",
    "#connect to RDS\n",
    "conn = psycopg2.connect(conn_string)\n",
    "print(\"Connected!\")    "
   ]
  },
  {
   "cell_type": "code",
   "execution_count": null,
   "id": "63862b5e",
   "metadata": {},
   "outputs": [],
   "source": [
    "# Read the data from RDS as Pandas \n",
    "df=pd.read_sql_query(\"select * from housing\",con=conn)\n",
    "df.head(10)"
   ]
  },
  {
   "cell_type": "code",
   "execution_count": null,
   "id": "6c2f0a11",
   "metadata": {},
   "outputs": [],
   "source": [
    "# We can analyze the distribution of the various sales prices on our home dataset \n",
    "fig, ax = plt.subplots(figsize=(20,15))\n",
    "sns.histplot(x=df['SalePrice'], kde=True, ax=ax, alpha=0.4).set(title = \"Sale Prices in Ames Housing\")\n",
    "plt.show()"
   ]
  },
  {
   "cell_type": "code",
   "execution_count": 1,
   "id": "439b9d19",
   "metadata": {},
   "outputs": [],
   "source": [
    "# Boxplot \n",
    "\n",
    "sns.boxplot(x=df[\"SalePrice\"])"
   ]
  },
  {
   "cell_type": "code",
   "execution_count": null,
   "id": "9c1af0dc",
   "metadata": {},
   "outputs": [],
   "source": [
    "# Description of the Interquartile ranges \n",
    "\n",
    "print(df['SalePrice'].describe())"
   ]
  },
  {
   "cell_type": "code",
   "execution_count": 2,
   "id": "c916846f",
   "metadata": {},
   "outputs": [
    {
     "data": {
      "text/html": [
       "<div>\n",
       "<style scoped>\n",
       "    .dataframe tbody tr th:only-of-type {\n",
       "        vertical-align: middle;\n",
       "    }\n",
       "\n",
       "    .dataframe tbody tr th {\n",
       "        vertical-align: top;\n",
       "    }\n",
       "\n",
       "    .dataframe thead th {\n",
       "        text-align: right;\n",
       "    }\n",
       "</style>\n",
       "<table border=\"1\" class=\"dataframe\">\n",
       "  <thead>\n",
       "    <tr style=\"text-align: right;\">\n",
       "      <th></th>\n",
       "      <th>Order</th>\n",
       "      <th>PID</th>\n",
       "      <th>MS SubClass</th>\n",
       "      <th>MS Zoning</th>\n",
       "      <th>Lot Frontage</th>\n",
       "      <th>Lot Area</th>\n",
       "      <th>Street</th>\n",
       "      <th>Alley</th>\n",
       "      <th>Lot Shape</th>\n",
       "      <th>Land Contour</th>\n",
       "      <th>...</th>\n",
       "      <th>Pool Area</th>\n",
       "      <th>Pool QC</th>\n",
       "      <th>Fence</th>\n",
       "      <th>Misc Feature</th>\n",
       "      <th>Misc Val</th>\n",
       "      <th>Mo Sold</th>\n",
       "      <th>Yr Sold</th>\n",
       "      <th>Sale Type</th>\n",
       "      <th>Sale Condition</th>\n",
       "      <th>SalePrice</th>\n",
       "    </tr>\n",
       "  </thead>\n",
       "  <tbody>\n",
       "    <tr>\n",
       "      <th>0</th>\n",
       "      <td>1</td>\n",
       "      <td>526301100</td>\n",
       "      <td>20</td>\n",
       "      <td>RL</td>\n",
       "      <td>141.0</td>\n",
       "      <td>31770</td>\n",
       "      <td>Pave</td>\n",
       "      <td>NaN</td>\n",
       "      <td>IR1</td>\n",
       "      <td>Lvl</td>\n",
       "      <td>...</td>\n",
       "      <td>0</td>\n",
       "      <td>NaN</td>\n",
       "      <td>NaN</td>\n",
       "      <td>NaN</td>\n",
       "      <td>0</td>\n",
       "      <td>5</td>\n",
       "      <td>2010</td>\n",
       "      <td>WD</td>\n",
       "      <td>Normal</td>\n",
       "      <td>215000</td>\n",
       "    </tr>\n",
       "    <tr>\n",
       "      <th>1</th>\n",
       "      <td>2</td>\n",
       "      <td>526350040</td>\n",
       "      <td>20</td>\n",
       "      <td>RH</td>\n",
       "      <td>80.0</td>\n",
       "      <td>11622</td>\n",
       "      <td>Pave</td>\n",
       "      <td>NaN</td>\n",
       "      <td>Reg</td>\n",
       "      <td>Lvl</td>\n",
       "      <td>...</td>\n",
       "      <td>0</td>\n",
       "      <td>NaN</td>\n",
       "      <td>MnPrv</td>\n",
       "      <td>NaN</td>\n",
       "      <td>0</td>\n",
       "      <td>6</td>\n",
       "      <td>2010</td>\n",
       "      <td>WD</td>\n",
       "      <td>Normal</td>\n",
       "      <td>105000</td>\n",
       "    </tr>\n",
       "    <tr>\n",
       "      <th>2</th>\n",
       "      <td>3</td>\n",
       "      <td>526351010</td>\n",
       "      <td>20</td>\n",
       "      <td>RL</td>\n",
       "      <td>81.0</td>\n",
       "      <td>14267</td>\n",
       "      <td>Pave</td>\n",
       "      <td>NaN</td>\n",
       "      <td>IR1</td>\n",
       "      <td>Lvl</td>\n",
       "      <td>...</td>\n",
       "      <td>0</td>\n",
       "      <td>NaN</td>\n",
       "      <td>NaN</td>\n",
       "      <td>Gar2</td>\n",
       "      <td>12500</td>\n",
       "      <td>6</td>\n",
       "      <td>2010</td>\n",
       "      <td>WD</td>\n",
       "      <td>Normal</td>\n",
       "      <td>172000</td>\n",
       "    </tr>\n",
       "    <tr>\n",
       "      <th>3</th>\n",
       "      <td>4</td>\n",
       "      <td>526353030</td>\n",
       "      <td>20</td>\n",
       "      <td>RL</td>\n",
       "      <td>93.0</td>\n",
       "      <td>11160</td>\n",
       "      <td>Pave</td>\n",
       "      <td>NaN</td>\n",
       "      <td>Reg</td>\n",
       "      <td>Lvl</td>\n",
       "      <td>...</td>\n",
       "      <td>0</td>\n",
       "      <td>NaN</td>\n",
       "      <td>NaN</td>\n",
       "      <td>NaN</td>\n",
       "      <td>0</td>\n",
       "      <td>4</td>\n",
       "      <td>2010</td>\n",
       "      <td>WD</td>\n",
       "      <td>Normal</td>\n",
       "      <td>244000</td>\n",
       "    </tr>\n",
       "    <tr>\n",
       "      <th>4</th>\n",
       "      <td>5</td>\n",
       "      <td>527105010</td>\n",
       "      <td>60</td>\n",
       "      <td>RL</td>\n",
       "      <td>74.0</td>\n",
       "      <td>13830</td>\n",
       "      <td>Pave</td>\n",
       "      <td>NaN</td>\n",
       "      <td>IR1</td>\n",
       "      <td>Lvl</td>\n",
       "      <td>...</td>\n",
       "      <td>0</td>\n",
       "      <td>NaN</td>\n",
       "      <td>MnPrv</td>\n",
       "      <td>NaN</td>\n",
       "      <td>0</td>\n",
       "      <td>3</td>\n",
       "      <td>2010</td>\n",
       "      <td>WD</td>\n",
       "      <td>Normal</td>\n",
       "      <td>189900</td>\n",
       "    </tr>\n",
       "  </tbody>\n",
       "</table>\n",
       "<p>5 rows × 82 columns</p>\n",
       "</div>"
      ],
      "text/plain": [
       "   Order        PID  MS SubClass MS Zoning  Lot Frontage  Lot Area Street  \\\n",
       "0      1  526301100           20        RL         141.0     31770   Pave   \n",
       "1      2  526350040           20        RH          80.0     11622   Pave   \n",
       "2      3  526351010           20        RL          81.0     14267   Pave   \n",
       "3      4  526353030           20        RL          93.0     11160   Pave   \n",
       "4      5  527105010           60        RL          74.0     13830   Pave   \n",
       "\n",
       "  Alley Lot Shape Land Contour  ... Pool Area Pool QC  Fence Misc Feature  \\\n",
       "0   NaN       IR1          Lvl  ...         0     NaN    NaN          NaN   \n",
       "1   NaN       Reg          Lvl  ...         0     NaN  MnPrv          NaN   \n",
       "2   NaN       IR1          Lvl  ...         0     NaN    NaN         Gar2   \n",
       "3   NaN       Reg          Lvl  ...         0     NaN    NaN          NaN   \n",
       "4   NaN       IR1          Lvl  ...         0     NaN  MnPrv          NaN   \n",
       "\n",
       "  Misc Val Mo Sold Yr Sold Sale Type  Sale Condition  SalePrice  \n",
       "0        0       5    2010       WD           Normal     215000  \n",
       "1        0       6    2010       WD           Normal     105000  \n",
       "2    12500       6    2010       WD           Normal     172000  \n",
       "3        0       4    2010       WD           Normal     244000  \n",
       "4        0       3    2010       WD           Normal     189900  \n",
       "\n",
       "[5 rows x 82 columns]"
      ]
     },
     "execution_count": 2,
     "metadata": {},
     "output_type": "execute_result"
    }
   ],
   "source": [
    "# load the csv dataset\n",
    "file_path=\"C:\\\\Users/nisha/Documents/Final_Project/Deliverable_1_Triangle/Images/AmesHousing.csv\"\n",
    "housing_df=pd.read_csv(file_path)\n",
    "housing_df.head()\n"
   ]
  },
  {
   "cell_type": "code",
   "execution_count": 3,
   "id": "90a7982d",
   "metadata": {},
   "outputs": [
    {
     "data": {
      "text/plain": [
       "Index(['Order', 'PID', 'MS SubClass', 'MS Zoning', 'Lot Frontage', 'Lot Area',\n",
       "       'Street', 'Alley', 'Lot Shape', 'Land Contour', 'Utilities',\n",
       "       'Lot Config', 'Land Slope', 'Neighborhood', 'Condition 1',\n",
       "       'Condition 2', 'Bldg Type', 'House Style', 'Overall Qual',\n",
       "       'Overall Cond', 'Year Built', 'Year Remod/Add', 'Roof Style',\n",
       "       'Roof Matl', 'Exterior 1st', 'Exterior 2nd', 'Mas Vnr Type',\n",
       "       'Mas Vnr Area', 'Exter Qual', 'Exter Cond', 'Foundation', 'Bsmt Qual',\n",
       "       'Bsmt Cond', 'Bsmt Exposure', 'BsmtFin Type 1', 'BsmtFin SF 1',\n",
       "       'BsmtFin Type 2', 'BsmtFin SF 2', 'Bsmt Unf SF', 'Total Bsmt SF',\n",
       "       'Heating', 'Heating QC', 'Central Air', 'Electrical', '1st Flr SF',\n",
       "       '2nd Flr SF', 'Low Qual Fin SF', 'Gr Liv Area', 'Bsmt Full Bath',\n",
       "       'Bsmt Half Bath', 'Full Bath', 'Half Bath', 'Bedroom AbvGr',\n",
       "       'Kitchen AbvGr', 'Kitchen Qual', 'TotRms AbvGrd', 'Functional',\n",
       "       'Fireplaces', 'Fireplace Qu', 'Garage Type', 'Garage Yr Blt',\n",
       "       'Garage Finish', 'Garage Cars', 'Garage Area', 'Garage Qual',\n",
       "       'Garage Cond', 'Paved Drive', 'Wood Deck SF', 'Open Porch SF',\n",
       "       'Enclosed Porch', '3Ssn Porch', 'Screen Porch', 'Pool Area', 'Pool QC',\n",
       "       'Fence', 'Misc Feature', 'Misc Val', 'Mo Sold', 'Yr Sold', 'Sale Type',\n",
       "       'Sale Condition', 'SalePrice'],\n",
       "      dtype='object')"
      ]
     },
     "execution_count": 3,
     "metadata": {},
     "output_type": "execute_result"
    }
   ],
   "source": [
    "housing_df.columns\n"
   ]
  },
  {
   "cell_type": "code",
   "execution_count": 4,
   "id": "3f5d395a",
   "metadata": {},
   "outputs": [],
   "source": [
    "# We can drop the ID column as well as the order as the information is not necessary for our dataset \n",
    "\n",
    "df = pd.read_csv(\"C:\\\\Users/nisha/Documents/Final_Project/Deliverable_1_Triangle/Images/AmesHousing.csv\")\n",
    "df.drop(['Order', 'PID'], axis=1, inplace=True)\n"
   ]
  },
  {
   "cell_type": "markdown",
   "id": "ed23dc34",
   "metadata": {},
   "source": [
    "# Exploring our Data "
   ]
  },
  {
   "cell_type": "code",
   "execution_count": 5,
   "id": "c066855f",
   "metadata": {},
   "outputs": [
    {
     "ename": "AttributeError",
     "evalue": "'function' object has no attribute 'set'",
     "output_type": "error",
     "traceback": [
      "\u001b[1;31m---------------------------------------------------------------------------\u001b[0m",
      "\u001b[1;31mAttributeError\u001b[0m                            Traceback (most recent call last)",
      "\u001b[1;32m~\\AppData\\Local\\Temp\\ipykernel_40188\\866288133.py\u001b[0m in \u001b[0;36m<module>\u001b[1;34m\u001b[0m\n\u001b[0;32m      2\u001b[0m \u001b[0mfig\u001b[0m\u001b[1;33m,\u001b[0m \u001b[0max\u001b[0m \u001b[1;33m=\u001b[0m \u001b[0mplt\u001b[0m\u001b[1;33m.\u001b[0m\u001b[0msubplots\u001b[0m\u001b[1;33m(\u001b[0m\u001b[0mfigsize\u001b[0m\u001b[1;33m=\u001b[0m\u001b[1;33m(\u001b[0m\u001b[1;36m20\u001b[0m\u001b[1;33m,\u001b[0m\u001b[1;36m15\u001b[0m\u001b[1;33m)\u001b[0m\u001b[1;33m)\u001b[0m\u001b[1;33m\u001b[0m\u001b[1;33m\u001b[0m\u001b[0m\n\u001b[0;32m      3\u001b[0m \u001b[0msns\u001b[0m\u001b[1;33m.\u001b[0m\u001b[0mhistplot\u001b[0m\u001b[1;33m(\u001b[0m\u001b[0mx\u001b[0m\u001b[1;33m=\u001b[0m\u001b[0mdf\u001b[0m\u001b[1;33m[\u001b[0m\u001b[1;34m'SalePrice'\u001b[0m\u001b[1;33m]\u001b[0m\u001b[1;33m,\u001b[0m \u001b[0mkde\u001b[0m\u001b[1;33m=\u001b[0m\u001b[1;32mFalse\u001b[0m\u001b[1;33m,\u001b[0m \u001b[0max\u001b[0m\u001b[1;33m=\u001b[0m\u001b[0max\u001b[0m\u001b[1;33m,\u001b[0m \u001b[0malpha\u001b[0m\u001b[1;33m=\u001b[0m\u001b[1;36m0.4\u001b[0m\u001b[1;33m)\u001b[0m\u001b[1;33m\u001b[0m\u001b[1;33m\u001b[0m\u001b[0m\n\u001b[1;32m----> 4\u001b[1;33m \u001b[0msns\u001b[0m\u001b[1;33m.\u001b[0m\u001b[0mhistplot\u001b[0m\u001b[1;33m.\u001b[0m\u001b[0mset\u001b[0m\u001b[1;33m(\u001b[0m\u001b[0mtitle\u001b[0m \u001b[1;33m=\u001b[0m \u001b[1;34m\"Sale Prices in Ames Housing\"\u001b[0m\u001b[1;33m)\u001b[0m\u001b[1;33m\u001b[0m\u001b[1;33m\u001b[0m\u001b[0m\n\u001b[0m",
      "\u001b[1;31mAttributeError\u001b[0m: 'function' object has no attribute 'set'"
     ]
    },
    {
     "data": {
      "image/png": "[encoded data removed]",
      "text/plain": [
       "<Figure size 1440x1080 with 1 Axes>"
      ]
     },
     "metadata": {
      "needs_background": "light"
     },
     "output_type": "display_data"
    }
   ],
   "source": [
    "# We can analyze the distribution of the various sales prices on our home dataset \n",
    "fig, ax = plt.subplots(figsize=(20,15))\n",
    "sns.histplot(x=df['SalePrice'], kde=False, ax=ax, alpha=0.4)\n",
    "sns.histplot.set(title = \"Sale Prices in Ames Housing\")"
   ]
  },
  {
   "cell_type": "code",
   "execution_count": null,
   "id": "035ec508",
   "metadata": {},
   "outputs": [],
   "source": [
    "# Boxplot \n",
    "\n",
    "sns.boxplot(x=df[\"SalePrice\"])\n"
   ]
  },
  {
   "cell_type": "code",
   "execution_count": null,
   "id": "140bc2a5",
   "metadata": {},
   "outputs": [],
   "source": [
    "# Description of the Interquartile ranges \n",
    "\n",
    "print(df['SalePrice'].describe())"
   ]
  },
  {
   "cell_type": "code",
   "execution_count": null,
   "id": "3a8a16e6",
   "metadata": {},
   "outputs": [],
   "source": [
    "# We could further inspect outliers (this is something to explore over the next deliverable)\n",
    "# Use heatmap or another way to show correaltion"
   ]
  },
  {
   "cell_type": "code",
   "execution_count": null,
   "id": "707365f1",
   "metadata": {},
   "outputs": [],
   "source": [
    "# Examining Correlation amongst features: \n",
    "\n",
    "fig, ax = plt.subplots(figsize=(14,8))\n",
    "ax.scatter(\n",
    "    x=df['Year Built'],\n",
    "    y=df['SalePrice'],\n",
    "    color='orange',\n",
    "    edgecolors='black',\n",
    "    linewidths=0.4,\n",
    "    alpha=0.8,\n",
    "    )\n",
    "\n",
    "plt.show()\n"
   ]
  },
  {
   "cell_type": "code",
   "execution_count": null,
   "id": "58bea204",
   "metadata": {},
   "outputs": [],
   "source": [
    "# Living Area vs Sales Price \n",
    "\n",
    "fig, ax = plt.subplots(figsize=(14,8))\n",
    "ax.scatter(\n",
    "    x=df['Gr Liv Area'],\n",
    "    y=df['SalePrice'],\n",
    "    color='orange',\n",
    "    edgecolors='blue',\n",
    "    linewidths=0.4,\n",
    "    alpha=0.8,\n",
    "    )\n",
    "\n",
    "plt.show()\n"
   ]
  },
  {
   "cell_type": "markdown",
   "id": "adebbb86",
   "metadata": {},
   "source": [
    "# Data Preprocessing"
   ]
  },
  {
   "cell_type": "code",
   "execution_count": null,
   "id": "b17f5d9f",
   "metadata": {},
   "outputs": [],
   "source": [
    "# DataPreprocessing:  \n",
    "\n",
    "# Importance behind Data Preprocessing in our specfic scenario: \n",
    "# We might not have houses being sold in a normal condition\n",
    "# We can have houses that might have had rush sales due to owner requiring money quickly\n",
    "# We can have data missing for specific features which can skew our results\n",
    "\n",
    "# Steps to tackle these issues: \n",
    "# 1. Identifying Missing Values \n",
    "# 2. Decide on what to do with the Missing Values, either remove column/rows or replace with mean value \n",
    "# 3. One-Hot Encoding of Categorical Variables ( we will turn our categorical variables in our numerical data type)\n",
    "# 4. Observing Variable datatypes captured by Pandas, sometimes they provide incorrect data variable type \n",
    "# 5. Splitting our data into X_train, X_test, y_train & y_test \n",
    "# 6. Standardizing our variable except the target variable \n",
    "\n",
    "\n",
    "# exploring data, did you see any trend? \n",
    "# what sort of analysis are you doing?"
   ]
  },
  {
   "cell_type": "code",
   "execution_count": null,
   "id": "599fbeaf",
   "metadata": {},
   "outputs": [],
   "source": [
    "# Identifying the Number of Missing Values \n",
    "\n",
    "missing_values = pd.DataFrame({\n",
    "    'Column': df.columns.values,\n",
    "    'Number of Missing Value': df.isna().sum().values,\n",
    "    'Missing Value %': 100 * df.isna().sum().values / len(df),})\n",
    "\n",
    "missing_values = missing_values[missing_values['Number of Missing Value'] > 0]\n",
    "print(missing_values.sort_values(by='Number of Missing Value').reset_index(drop=True))\n",
    "\n"
   ]
  },
  {
   "cell_type": "markdown",
   "id": "365a83a3",
   "metadata": {},
   "source": [
    "# Drop Variables with too many Missing Values"
   ]
  },
  {
   "cell_type": "code",
   "execution_count": 6,
   "id": "8cc7dcdb",
   "metadata": {},
   "outputs": [
    {
     "data": {
      "text/plain": [
       "(2930, 74)"
      ]
     },
     "execution_count": 6,
     "metadata": {},
     "output_type": "execute_result"
    }
   ],
   "source": [
    "\n",
    "# Identifying the Number of Missing Values - Remove Missing Values with a higher percentage than 80% \n",
    "\n",
    "df.drop(['Fence', 'Alley', 'Misc Feature', 'Pool QC', 'Fireplace Qu', 'Lot Frontage'], axis=1, inplace=True)\n",
    "\n",
    "df.shape"
   ]
  },
  {
   "cell_type": "code",
   "execution_count": 7,
   "id": "90ced5b6",
   "metadata": {},
   "outputs": [
    {
     "name": "stdout",
     "output_type": "stream",
     "text": [
      "Mas Vnr Type\n",
      "['Stone' 'None' 'BrkFace' nan 'BrkCmn']\n",
      "Mas Vnr Area\n",
      "[112.   0. 108.  20. 603.]\n",
      "Bsmt Qual\n",
      "['TA' 'Gd' 'Ex' nan 'Fa']\n",
      "Bsmt Cond\n",
      "['Gd' 'TA' nan 'Po' 'Fa']\n",
      "Bsmt Exposure\n",
      "['Gd' 'No' 'Mn' 'Av' nan]\n",
      "BsmtFin Type 1\n",
      "['BLQ' 'Rec' 'ALQ' 'GLQ' 'Unf']\n",
      "BsmtFin SF 1\n",
      "[ 639.  468.  923. 1065.  791.]\n",
      "BsmtFin Type 2\n",
      "['Unf' 'LwQ' 'BLQ' 'Rec' nan]\n",
      "BsmtFin SF 2\n",
      "[   0.  144. 1120.  163.  168.]\n",
      "Bsmt Unf SF\n",
      "[ 441.  270.  406. 1045.  137.]\n",
      "Total Bsmt SF\n",
      "[1080.  882. 1329. 2110.  928.]\n",
      "Electrical\n",
      "['SBrkr' 'FuseA' 'FuseF' 'FuseP' nan]\n",
      "Bsmt Full Bath\n",
      "[ 1.  0.  2.  3. nan]\n",
      "Bsmt Half Bath\n",
      "[ 0.  1. nan  2.]\n",
      "Garage Type\n",
      "['Attchd' 'BuiltIn' 'Basment' 'Detchd' nan]\n",
      "Garage Yr Blt\n",
      "[1960. 1961. 1958. 1968. 1997.]\n",
      "Garage Finish\n",
      "['Fin' 'Unf' 'RFn' nan]\n",
      "Garage Cars\n",
      "[2. 1. 3. 0. 4.]\n",
      "Garage Area\n",
      "[528. 730. 312. 522. 482.]\n",
      "Garage Qual\n",
      "['TA' nan 'Fa' 'Gd' 'Ex']\n",
      "Garage Cond\n",
      "['TA' nan 'Fa' 'Gd' 'Ex']\n"
     ]
    }
   ],
   "source": [
    "# We must decide what we are going to do with all the other variables that have missing values and identify whether the variables are categorical or numerical \n",
    "\n",
    "cols_with_missing_values = df.columns[df.isna().sum() > 0]\n",
    "for col in cols_with_missing_values:\n",
    "\n",
    "# Print Info \n",
    "    \n",
    "    print(col)\n",
    "    print(df[col].unique()[:5])"
   ]
  },
  {
   "cell_type": "code",
   "execution_count": 8,
   "id": "378983b5",
   "metadata": {},
   "outputs": [],
   "source": [
    "# Train & Test Split onto the missing values\n",
    "\n",
    "train_df, test_df = train_test_split(df, test_size=0.2)\n"
   ]
  },
  {
   "cell_type": "code",
   "execution_count": 9,
   "id": "aefa6bad",
   "metadata": {},
   "outputs": [],
   "source": [
    "# Replacing the values of our numerical values \n",
    "\n",
    "num_with_missing = ['Mas Vnr Area', 'BsmtFin SF 1', 'BsmtFin SF 2', \n",
    "                    'Bsmt Unf SF', 'Total Bsmt SF', 'Bsmt Full Bath', 'Bsmt Half Bath', \n",
    "                    'Garage Yr Blt', 'Garage Cars', 'Garage Area']\n",
    "\n",
    "for n_col in num_with_missing:\n",
    "    train_df[n_col] = train_df[n_col].fillna(train_df[n_col].mean())\n",
    "    test_df[n_col] = test_df[n_col].fillna(test_df[n_col].mean())"
   ]
  },
  {
   "cell_type": "code",
   "execution_count": 10,
   "id": "30cb84c9",
   "metadata": {},
   "outputs": [],
   "source": [
    "# Replacing the values of our categorical values\n",
    "\n",
    "cat_with_missing = [x for x in cols_with_missing_values if x not in num_with_missing]\n",
    "\n",
    "for c_col in cat_with_missing:\n",
    "    train_df[c_col] = train_df[c_col].fillna(train_df[c_col].mode().to_numpy()[0])\n",
    "    test_df[c_col] = test_df[c_col].fillna(test_df[c_col].mode().to_numpy()[0])\n",
    "    \n",
    "    \n",
    "# Our dataset should not have any more missing variables at this point, we can run a code to double check if this is true\n"
   ]
  },
  {
   "cell_type": "markdown",
   "id": "341ebabb",
   "metadata": {},
   "source": [
    "# We could further inspect outliers (this is something to explore over the next deliverable)\n",
    "# Use heatmap or another way to show correaltion"
   ]
  },
  {
   "cell_type": "code",
   "execution_count": null,
   "id": "c73814c3",
   "metadata": {},
   "outputs": [],
   "source": [
    "# Examining Correlation amongst features: \n",
    "\n",
    "fig, ax = plt.subplots(figsize=(14,8))\n",
    "ax.scatter(\n",
    "    x=df['Year Built'],\n",
    "    y=df['SalePrice'],\n",
    "    color='orange',\n",
    "    edgecolors='black',\n",
    "    linewidths=0.4,\n",
    "    alpha=0.8,\n",
    "    )\n",
    "\n",
    "plt.show()"
   ]
  },
  {
   "cell_type": "code",
   "execution_count": null,
   "id": "9de7d37c",
   "metadata": {},
   "outputs": [],
   "source": [
    "# Living Area vs Sales Price \n",
    "\n",
    "fig, ax = plt.subplots(figsize=(14,8))\n",
    "ax.scatter(\n",
    "    x=df['Gr Liv Area'],\n",
    "    y=df['SalePrice'],\n",
    "    color='orange',\n",
    "    edgecolors='blue',\n",
    "    linewidths=0.4,\n",
    "    alpha=0.8,\n",
    "    )\n",
    "\n",
    "plt.show()"
   ]
  },
  {
   "cell_type": "code",
   "execution_count": 11,
   "id": "b9fb7ba6",
   "metadata": {},
   "outputs": [
    {
     "data": {
      "text/plain": [
       "MS SubClass       0\n",
       "MS Zoning         0\n",
       "Lot Area          0\n",
       "Street            0\n",
       "Lot Shape         0\n",
       "                 ..\n",
       "Mo Sold           0\n",
       "Yr Sold           0\n",
       "Sale Type         0\n",
       "Sale Condition    0\n",
       "SalePrice         0\n",
       "Length: 74, dtype: int64"
      ]
     },
     "execution_count": 11,
     "metadata": {},
     "output_type": "execute_result"
    }
   ],
   "source": [
    "df.isna().sum()\n",
    "\n",
    "# ERROR spotted on LOT FRONTAGE Feature (figure out why this error is arising)"
   ]
  },
  {
   "cell_type": "markdown",
   "id": "8d4437a4",
   "metadata": {},
   "source": [
    "# One Hot Encoding our Categorical Variables"
   ]
  },
  {
   "cell_type": "code",
   "execution_count": 12,
   "id": "e306ca27",
   "metadata": {},
   "outputs": [
    {
     "name": "stdout",
     "output_type": "stream",
     "text": [
      "             Column Data type\n",
      "0       MS SubClass     int64\n",
      "1          Lot Area     int64\n",
      "2      Overall Qual     int64\n",
      "3      Overall Cond     int64\n",
      "4        Year Built     int64\n",
      "5    Year Remod/Add     int64\n",
      "6      Mas Vnr Area   float64\n",
      "7      BsmtFin SF 1   float64\n",
      "8      BsmtFin SF 2   float64\n",
      "9       Bsmt Unf SF   float64\n",
      "10    Total Bsmt SF   float64\n",
      "11       1st Flr SF     int64\n",
      "12       2nd Flr SF     int64\n",
      "13  Low Qual Fin SF     int64\n",
      "14      Gr Liv Area     int64\n",
      "15   Bsmt Full Bath   float64\n",
      "16   Bsmt Half Bath   float64\n",
      "17        Full Bath     int64\n",
      "18        Half Bath     int64\n",
      "19    Bedroom AbvGr     int64\n",
      "20    Kitchen AbvGr     int64\n",
      "21    TotRms AbvGrd     int64\n",
      "22       Fireplaces     int64\n",
      "23    Garage Yr Blt   float64\n",
      "24      Garage Cars   float64\n",
      "25      Garage Area   float64\n",
      "26     Wood Deck SF     int64\n",
      "27    Open Porch SF     int64\n",
      "28   Enclosed Porch     int64\n",
      "29       3Ssn Porch     int64\n",
      "30     Screen Porch     int64\n",
      "31        Pool Area     int64\n",
      "32         Misc Val     int64\n",
      "33          Mo Sold     int64\n",
      "34          Yr Sold     int64\n",
      "35        SalePrice     int64\n"
     ]
    }
   ],
   "source": [
    "# Checking our Variables Data Types & Confirm whether Pandas is reading any of these variables incorrectly \n",
    "data_types = pd.DataFrame({\n",
    "    'Column': train_df.select_dtypes(exclude='object').columns.values,\n",
    "    'Data type': train_df.select_dtypes(exclude='object').dtypes.values})\n",
    "\n",
    "print(data_types)"
   ]
  },
  {
   "cell_type": "markdown",
   "id": "fa555af0",
   "metadata": {},
   "source": [
    "# Perform One-Hot Encoding"
   ]
  },
  {
   "cell_type": "code",
   "execution_count": 2,
   "id": "cea08348",
   "metadata": {},
   "outputs": [
    {
     "ename": "NameError",
     "evalue": "name 'train_df' is not defined",
     "output_type": "error",
     "traceback": [
      "\u001b[1;31m---------------------------------------------------------------------------\u001b[0m",
      "\u001b[1;31mNameError\u001b[0m                                 Traceback (most recent call last)",
      "\u001b[1;32m~\\AppData\\Local\\Temp\\ipykernel_3588\\704132343.py\u001b[0m in \u001b[0;36m<module>\u001b[1;34m\u001b[0m\n\u001b[0;32m      8\u001b[0m                  'Pool Area', 'SalePrice']\n\u001b[0;32m      9\u001b[0m \u001b[1;33m\u001b[0m\u001b[0m\n\u001b[1;32m---> 10\u001b[1;33m \u001b[0mtrain_df\u001b[0m \u001b[1;33m=\u001b[0m \u001b[0mtrain_df\u001b[0m\u001b[1;33m[\u001b[0m\u001b[0maccepted_vars\u001b[0m\u001b[1;33m]\u001b[0m\u001b[1;33m\u001b[0m\u001b[1;33m\u001b[0m\u001b[0m\n\u001b[0m\u001b[0;32m     11\u001b[0m \u001b[0mtest_df\u001b[0m \u001b[1;33m=\u001b[0m \u001b[0mtest_df\u001b[0m\u001b[1;33m[\u001b[0m\u001b[0maccepted_vars\u001b[0m\u001b[1;33m]\u001b[0m\u001b[1;33m\u001b[0m\u001b[1;33m\u001b[0m\u001b[0m\n",
      "\u001b[1;31mNameError\u001b[0m: name 'train_df' is not defined"
     ]
    }
   ],
   "source": [
    "# Perform One Hot Encoding \n",
    "\n",
    "accepted_vars = ['MS SubClass', 'Lot Area',\n",
    "                 'Overall Qual', 'Overall Cond',\n",
    "                 'Year Built', 'Total Bsmt SF', '1st Flr SF', '2nd Flr SF',\n",
    "                 'Gr Liv Area', 'Full Bath', 'Half Bath', 'Bedroom AbvGr', \n",
    "                 'Kitchen AbvGr', 'TotRms AbvGrd', 'Garage Area', \n",
    "                 'Pool Area', 'SalePrice']\n",
    "\n",
    "train_df = train_df[accepted_vars]\n",
    "test_df = test_df[accepted_vars] "
   ]
  },
  {
   "cell_type": "code",
   "execution_count": 14,
   "id": "350c311d",
   "metadata": {},
   "outputs": [],
   "source": [
    "train_df = pd.get_dummies(train_df).reset_index(drop=True)\n",
    "test_df = pd.get_dummies(test_df).reset_index(drop=True)\n",
    "\n"
   ]
  },
  {
   "cell_type": "code",
   "execution_count": 15,
   "id": "17a871df",
   "metadata": {},
   "outputs": [
    {
     "name": "stdout",
     "output_type": "stream",
     "text": [
      "     MS SubClass  Lot Area  Overall Qual  Overall Cond  Year Built  \\\n",
      "0             50     13758             7             5        1990   \n",
      "1             90     10126             6             5        1997   \n",
      "2             20      8125             7             5        2002   \n",
      "3             20      9900             5             5        1961   \n",
      "4             50      8520             3             5        1916   \n",
      "..           ...       ...           ...           ...         ...   \n",
      "581           20    115149             7             5        1971   \n",
      "582           20     10130             8             5        2007   \n",
      "583           60     10800             6             7        1974   \n",
      "584          160      2665             5             6        1977   \n",
      "585           60     10625             7             5        2005   \n",
      "\n",
      "     Total Bsmt SF  1st Flr SF  2nd Flr SF  Gr Liv Area  Full Bath  Half Bath  \\\n",
      "0           1156.0        1187         530         1717          2          1   \n",
      "1           1838.0        1838           0         1838          2          0   \n",
      "2           1654.0        1654           0         1654          2          0   \n",
      "3           1114.0        1114           0         1114          1          0   \n",
      "4            216.0         576         360          936          1          0   \n",
      "..             ...         ...         ...          ...        ...        ...   \n",
      "581         1643.0        1824           0         1824          2          0   \n",
      "582         1702.0        1702           0         1702          2          0   \n",
      "583         1522.0        1548        1066         2614          2          1   \n",
      "584          757.0         925         550         1475          2          0   \n",
      "585         1026.0        1026         932         1958          2          1   \n",
      "\n",
      "     Bedroom AbvGr  Kitchen AbvGr  TotRms AbvGrd  Garage Area  Pool Area  \\\n",
      "0                3              1              7        400.0          0   \n",
      "1                2              2              8        721.0          0   \n",
      "2                3              1              6        900.0          0   \n",
      "3                3              1              5        451.0          0   \n",
      "4                2              1              6          0.0          0   \n",
      "..             ...            ...            ...          ...        ...   \n",
      "581              2              1              5        739.0          0   \n",
      "582              3              1              7        844.0          0   \n",
      "583              4              1              9        624.0          0   \n",
      "584              4              1              6        336.0          0   \n",
      "585              3              1              9        936.0          0   \n",
      "\n",
      "     SalePrice  \n",
      "0       187500  \n",
      "1       185000  \n",
      "2       230000  \n",
      "3       140000  \n",
      "4        78000  \n",
      "..         ...  \n",
      "581     302000  \n",
      "582     275500  \n",
      "583     240000  \n",
      "584     127000  \n",
      "585     250000  \n",
      "\n",
      "[586 rows x 17 columns]\n"
     ]
    }
   ],
   "source": [
    "print(test_df)"
   ]
  },
  {
   "cell_type": "code",
   "execution_count": 16,
   "id": "08a0eaa9",
   "metadata": {},
   "outputs": [
    {
     "name": "stdout",
     "output_type": "stream",
     "text": [
      "      MS SubClass  Lot Area  Overall Qual  Overall Cond  Year Built  \\\n",
      "0              60      7750             7             5        2003   \n",
      "1              20      6600             5             9        1982   \n",
      "2              20      9768             5             5        1955   \n",
      "3              20      7321             7             5        1999   \n",
      "4              60     15600             5             7        1950   \n",
      "...           ...       ...           ...           ...         ...   \n",
      "2339           50      7506             5             8        1925   \n",
      "2340           20     14601             9             5        2006   \n",
      "2341           50      6240             5             7        1936   \n",
      "2342           60     11700             6             6        1968   \n",
      "2343           20     51974             9             5        2006   \n",
      "\n",
      "      Total Bsmt SF  1st Flr SF  2nd Flr SF  Gr Liv Area  Full Bath  \\\n",
      "0             660.0         660         660         1320          2   \n",
      "1             816.0         816           0          816          1   \n",
      "2             960.0         960           0          960          1   \n",
      "3            1339.0        1358           0         1358          2   \n",
      "4            1168.0        1278        1037         2315          2   \n",
      "...             ...         ...         ...          ...        ...   \n",
      "2339          747.0         747         412         1159          1   \n",
      "2340         1838.0        1838           0         1838          2   \n",
      "2341          528.0         548         492         1040          1   \n",
      "2342          727.0         829         727         1556          1   \n",
      "2343         2660.0        2338           0         2338          2   \n",
      "\n",
      "      Half Bath  Bedroom AbvGr  Kitchen AbvGr  TotRms AbvGrd  Garage Area  \\\n",
      "0             1              3              1              6        400.0   \n",
      "1             0              3              1              5        264.0   \n",
      "2             0              2              1              5        330.0   \n",
      "3             0              3              1              5        625.0   \n",
      "4             0              4              1              9        342.0   \n",
      "...         ...            ...            ...            ...          ...   \n",
      "2339          0              3              1              5        288.0   \n",
      "2340          0              2              1              8        765.0   \n",
      "2341          0              2              1              5        624.0   \n",
      "2342          1              4              1              8        441.0   \n",
      "2343          1              4              1              8       1110.0   \n",
      "\n",
      "      Pool Area  SalePrice  \n",
      "0             0     162000  \n",
      "1             0     130500  \n",
      "2             0     122000  \n",
      "3             0     204000  \n",
      "4             0     257000  \n",
      "...         ...        ...  \n",
      "2339          0     114000  \n",
      "2340          0     315000  \n",
      "2341          0     123900  \n",
      "2342          0     154000  \n",
      "2343          0     591587  \n",
      "\n",
      "[2344 rows x 17 columns]\n"
     ]
    },
    {
     "data": {
      "text/plain": [
       "(2930, 74)"
      ]
     },
     "execution_count": 16,
     "metadata": {},
     "output_type": "execute_result"
    }
   ],
   "source": [
    "print (train_df)\n",
    "df.shape"
   ]
  },
  {
   "cell_type": "markdown",
   "id": "f8396004",
   "metadata": {},
   "source": [
    "# Split Data into X_train, X_test, y_train & y_test"
   ]
  },
  {
   "cell_type": "code",
   "execution_count": 17,
   "id": "406d5896",
   "metadata": {},
   "outputs": [],
   "source": [
    "# Split Data :\n",
    "# X_train - X_test - y_train - y_test\n",
    "\n",
    "X_train, y_train = train_df, train_df.pop('SalePrice')\n",
    "X_test, y_test = test_df, test_df.pop('SalePrice')"
   ]
  },
  {
   "cell_type": "code",
   "execution_count": 18,
   "id": "4db37d5d",
   "metadata": {},
   "outputs": [
    {
     "name": "stdout",
     "output_type": "stream",
     "text": [
      "<bound method DataFrame.pop of      MS SubClass  Lot Area  Overall Qual  Overall Cond  Year Built  \\\n",
      "0             50     13758             7             5        1990   \n",
      "1             90     10126             6             5        1997   \n",
      "2             20      8125             7             5        2002   \n",
      "3             20      9900             5             5        1961   \n",
      "4             50      8520             3             5        1916   \n",
      "..           ...       ...           ...           ...         ...   \n",
      "581           20    115149             7             5        1971   \n",
      "582           20     10130             8             5        2007   \n",
      "583           60     10800             6             7        1974   \n",
      "584          160      2665             5             6        1977   \n",
      "585           60     10625             7             5        2005   \n",
      "\n",
      "     Total Bsmt SF  1st Flr SF  2nd Flr SF  Gr Liv Area  Full Bath  Half Bath  \\\n",
      "0           1156.0        1187         530         1717          2          1   \n",
      "1           1838.0        1838           0         1838          2          0   \n",
      "2           1654.0        1654           0         1654          2          0   \n",
      "3           1114.0        1114           0         1114          1          0   \n",
      "4            216.0         576         360          936          1          0   \n",
      "..             ...         ...         ...          ...        ...        ...   \n",
      "581         1643.0        1824           0         1824          2          0   \n",
      "582         1702.0        1702           0         1702          2          0   \n",
      "583         1522.0        1548        1066         2614          2          1   \n",
      "584          757.0         925         550         1475          2          0   \n",
      "585         1026.0        1026         932         1958          2          1   \n",
      "\n",
      "     Bedroom AbvGr  Kitchen AbvGr  TotRms AbvGrd  Garage Area  Pool Area  \n",
      "0                3              1              7        400.0          0  \n",
      "1                2              2              8        721.0          0  \n",
      "2                3              1              6        900.0          0  \n",
      "3                3              1              5        451.0          0  \n",
      "4                2              1              6          0.0          0  \n",
      "..             ...            ...            ...          ...        ...  \n",
      "581              2              1              5        739.0          0  \n",
      "582              3              1              7        844.0          0  \n",
      "583              4              1              9        624.0          0  \n",
      "584              4              1              6        336.0          0  \n",
      "585              3              1              9        936.0          0  \n",
      "\n",
      "[586 rows x 16 columns]>\n"
     ]
    }
   ],
   "source": [
    "print (test_df.pop)"
   ]
  },
  {
   "cell_type": "code",
   "execution_count": 19,
   "id": "ee2f43a4",
   "metadata": {},
   "outputs": [
    {
     "name": "stdout",
     "output_type": "stream",
     "text": [
      "<bound method DataFrame.pop of       MS SubClass  Lot Area  Overall Qual  Overall Cond  Year Built  \\\n",
      "0              60      7750             7             5        2003   \n",
      "1              20      6600             5             9        1982   \n",
      "2              20      9768             5             5        1955   \n",
      "3              20      7321             7             5        1999   \n",
      "4              60     15600             5             7        1950   \n",
      "...           ...       ...           ...           ...         ...   \n",
      "2339           50      7506             5             8        1925   \n",
      "2340           20     14601             9             5        2006   \n",
      "2341           50      6240             5             7        1936   \n",
      "2342           60     11700             6             6        1968   \n",
      "2343           20     51974             9             5        2006   \n",
      "\n",
      "      Total Bsmt SF  1st Flr SF  2nd Flr SF  Gr Liv Area  Full Bath  \\\n",
      "0             660.0         660         660         1320          2   \n",
      "1             816.0         816           0          816          1   \n",
      "2             960.0         960           0          960          1   \n",
      "3            1339.0        1358           0         1358          2   \n",
      "4            1168.0        1278        1037         2315          2   \n",
      "...             ...         ...         ...          ...        ...   \n",
      "2339          747.0         747         412         1159          1   \n",
      "2340         1838.0        1838           0         1838          2   \n",
      "2341          528.0         548         492         1040          1   \n",
      "2342          727.0         829         727         1556          1   \n",
      "2343         2660.0        2338           0         2338          2   \n",
      "\n",
      "      Half Bath  Bedroom AbvGr  Kitchen AbvGr  TotRms AbvGrd  Garage Area  \\\n",
      "0             1              3              1              6        400.0   \n",
      "1             0              3              1              5        264.0   \n",
      "2             0              2              1              5        330.0   \n",
      "3             0              3              1              5        625.0   \n",
      "4             0              4              1              9        342.0   \n",
      "...         ...            ...            ...            ...          ...   \n",
      "2339          0              3              1              5        288.0   \n",
      "2340          0              2              1              8        765.0   \n",
      "2341          0              2              1              5        624.0   \n",
      "2342          1              4              1              8        441.0   \n",
      "2343          1              4              1              8       1110.0   \n",
      "\n",
      "      Pool Area  \n",
      "0             0  \n",
      "1             0  \n",
      "2             0  \n",
      "3             0  \n",
      "4             0  \n",
      "...         ...  \n",
      "2339          0  \n",
      "2340          0  \n",
      "2341          0  \n",
      "2342          0  \n",
      "2343          0  \n",
      "\n",
      "[2344 rows x 16 columns]>\n"
     ]
    }
   ],
   "source": [
    "print (train_df.pop)"
   ]
  },
  {
   "cell_type": "markdown",
   "id": "9bff456d",
   "metadata": {},
   "source": [
    "# Feature Scaling by using Standardization"
   ]
  },
  {
   "cell_type": "code",
   "execution_count": 20,
   "id": "33d8a3bb",
   "metadata": {},
   "outputs": [],
   "source": [
    "from sklearn.preprocessing import StandardScaler\n",
    "\n",
    "scaler = StandardScaler()\n",
    "X_train = scaler.fit_transform(X_train)\n",
    "X_test = scaler.transform(X_test)"
   ]
  },
  {
   "cell_type": "code",
   "execution_count": 21,
   "id": "527e270a",
   "metadata": {},
   "outputs": [
    {
     "name": "stdout",
     "output_type": "stream",
     "text": [
      "[[ 0.04419164 -0.31109856  0.65737598 ... -0.28043512 -0.33932319\n",
      "  -0.0673828 ]\n",
      " [-0.8837833  -0.46412998 -0.76607834 ... -0.91616038 -0.97350772\n",
      "  -0.0673828 ]\n",
      " [-0.8837833  -0.04256171 -0.76607834 ... -0.91616038 -0.6657417\n",
      "  -0.0673828 ]\n",
      " ...\n",
      " [-0.1878021  -0.51203546 -0.76607834 ... -0.91616038  0.70521603\n",
      "  -0.0673828 ]\n",
      " [ 0.04419164  0.21453107 -0.05435118 ...  0.99101541 -0.14813521\n",
      "  -0.0673828 ]\n",
      " [-0.8837833   5.57382416  2.0808303  ...  0.99101541  2.9714931\n",
      "  -0.0673828 ]]\n"
     ]
    }
   ],
   "source": [
    "print(X_train)"
   ]
  },
  {
   "cell_type": "code",
   "execution_count": 22,
   "id": "50e6001f",
   "metadata": {},
   "outputs": [
    {
     "name": "stdout",
     "output_type": "stream",
     "text": [
      "[[-0.1878021   0.48839076  0.65737598 ...  0.35529014 -0.33932319\n",
      "  -0.0673828 ]\n",
      " [ 0.74017285  0.00507764 -0.05435118 ...  0.99101541  1.15753882\n",
      "  -0.0673828 ]\n",
      " [-0.8837833  -0.26119702  0.65737598 ... -0.28043512  1.99223758\n",
      "  -0.0673828 ]\n",
      " ...\n",
      " [ 0.04419164  0.09476735 -0.05435118 ...  1.62674067  0.70521603\n",
      "  -0.0673828 ]\n",
      " [ 2.364129   -0.98776354 -0.76607834 ... -0.28043512 -0.63776297\n",
      "  -0.0673828 ]\n",
      " [ 0.04419164  0.07147996  0.65737598 ...  1.62674067  2.16010995\n",
      "  -0.0673828 ]]\n"
     ]
    }
   ],
   "source": [
    "print(X_test)"
   ]
  },
  {
   "cell_type": "code",
   "execution_count": 23,
   "id": "ae20ff3e",
   "metadata": {},
   "outputs": [],
   "source": [
    "### Using our Deliverable ML_model \n",
    "from sklearn.model_selection import train_test_split\n",
    "from sklearn.preprocessing import StandardScaler\n",
    "from sklearn.ensemble import RandomForestRegressor\n",
    "from sklearn.linear_model import LinearRegression\n",
    "from sklearn.tree import DecisionTreeRegressor\n",
    "from sklearn import metrics\n",
    "from sklearn.metrics import mean_squared_error, mean_absolute_error\n",
    "from sklearn import preprocessing\n"
   ]
  },
  {
   "cell_type": "markdown",
   "id": "e6d4a340",
   "metadata": {},
   "source": [
    "# Shallow Learning "
   ]
  },
  {
   "cell_type": "code",
   "execution_count": 24,
   "id": "9ac4acb1",
   "metadata": {},
   "outputs": [
    {
     "name": "stdout",
     "output_type": "stream",
     "text": [
      "Requirement already satisfied: xgboost in c:\\users\\nisha\\anaconda3\\envs\\hope\\lib\\site-packages (1.6.2)\n",
      "Requirement already satisfied: numpy in c:\\users\\nisha\\anaconda3\\envs\\hope\\lib\\site-packages (from xgboost) (1.21.5)\n",
      "Requirement already satisfied: scipy in c:\\users\\nisha\\anaconda3\\envs\\hope\\lib\\site-packages (from xgboost) (1.7.3)\n",
      "Note: you may need to restart the kernel to use updated packages.\n"
     ]
    }
   ],
   "source": [
    "pip install xgboost"
   ]
  },
  {
   "cell_type": "code",
   "execution_count": 25,
   "id": "e9371a70",
   "metadata": {},
   "outputs": [],
   "source": [
    "import xgboost as xgb"
   ]
  },
  {
   "cell_type": "code",
   "execution_count": 26,
   "id": "900ab58e",
   "metadata": {},
   "outputs": [],
   "source": [
    "# Initialize our Shallow Learning Regressors from Scikit-Learn \n",
    "\n",
    "linear_regressor = LinearRegression()\n",
    "dtr = DecisionTreeRegressor() \n",
    "forest = RandomForestRegressor()\n",
    "xgboost = xgb.XGBRegressor() "
   ]
  },
  {
   "cell_type": "code",
   "execution_count": 27,
   "id": "cb60a776",
   "metadata": {},
   "outputs": [
    {
     "data": {
      "text/plain": [
       "XGBRegressor(base_score=0.5, booster='gbtree', callbacks=None,\n",
       "             colsample_bylevel=1, colsample_bynode=1, colsample_bytree=1,\n",
       "             early_stopping_rounds=None, enable_categorical=False,\n",
       "             eval_metric=None, gamma=0, gpu_id=-1, grow_policy='depthwise',\n",
       "             importance_type=None, interaction_constraints='',\n",
       "             learning_rate=0.300000012, max_bin=256, max_cat_to_onehot=4,\n",
       "             max_delta_step=0, max_depth=6, max_leaves=0, min_child_weight=1,\n",
       "             missing=nan, monotone_constraints='()', n_estimators=100, n_jobs=0,\n",
       "             num_parallel_tree=1, predictor='auto', random_state=0, reg_alpha=0,\n",
       "             reg_lambda=1, ...)"
      ]
     },
     "execution_count": 27,
     "metadata": {},
     "output_type": "execute_result"
    }
   ],
   "source": [
    "# Fitting our Regressors: \n",
    "\n",
    "linear_regressor.fit(X_train, y_train) \n",
    "dtr.fit(X_train, y_train) \n",
    "forest.fit(X_train, y_train) \n",
    "xgboost.fit(X_train, y_train) "
   ]
  },
  {
   "cell_type": "code",
   "execution_count": 28,
   "id": "e92b9c9e",
   "metadata": {},
   "outputs": [],
   "source": [
    "# Making predictions on the test set\n",
    "y_pred_linear = linear_regressor.predict(X_test) \n",
    "y_pred_dtr = dtr.predict(X_test) \n",
    "y_pred_forest = forest.predict(X_test)\n",
    "y_pred_xgboost = xgboost.predict(X_test) "
   ]
  },
  {
   "cell_type": "code",
   "execution_count": 29,
   "id": "fab4ae9d",
   "metadata": {},
   "outputs": [
    {
     "name": "stdout",
     "output_type": "stream",
     "text": [
      "LinearRegressor Mean Absolute Error: 21595.450189311883\n",
      "LinearRegressor Mean Squared Error: 1258092949.7809412\n",
      "LinearRegressor Root Mean Squared Error: 35469.60599979849\n",
      "LinearRegressor Mean Absolute Percentage Error: 13.050580631477196\n",
      "LinearRegressor Mean Squared Logarithmic Error 20.952862879443437\n",
      "\n",
      "\n",
      "DTR Mean Absolute Error: 23664.384527872582\n",
      "DTR Mean Squared Error: 1179665646.8153205\n",
      "DTR Root Mean Squared Error: 34346.261031083435\n",
      "DTR Mean Absolute Percentage Error: 14.397238814714033\n",
      "DTR Mean Squared Logarithmic Error 20.888496885116236\n",
      "\n",
      "\n",
      "RFR Mean Absolute Error: 17012.745436832978\n",
      "RFR Mean Squared Error: 705926599.3702648\n",
      "RFR Root Mean Squared Error: 26569.27924069949\n",
      "RFR Mean Absolute Percentage Error: 10.513100183886479\n",
      "RFR Mean Squared Logarithmic Error 20.375021823154942\n",
      "\n",
      "\n",
      "XGBoost Mean Absolute Error: 17657.821045755118\n",
      "XGBoost Mean Squared Error: 673407025.3567449\n",
      "XGBoost Root Mean Squared Error: 25950.08719362509\n",
      "XGBoost Mean Absolute Percentage Error: 10.540805969112478\n",
      "XGBoost Mean Squared Logarithmic Error 20.327860497302026\n"
     ]
    }
   ],
   "source": [
    "y_pred_elastic = linear_regressor.predict(X_test)\n",
    "y_pred_dtr = dtr.predict(X_test)\n",
    "y_pred_forest = forest.predict(X_test)\n",
    "y_pred_xgboost = xgboost.predict(X_test)\n",
    "\n",
    "from sklearn import metrics\n",
    "\n",
    "print('LinearRegressor Mean Absolute Error:', metrics.mean_absolute_error(y_test, y_pred_elastic))\n",
    "print('LinearRegressor Mean Squared Error:', metrics.mean_squared_error(y_test, y_pred_elastic))\n",
    "print('LinearRegressor Root Mean Squared Error:', np.sqrt(metrics.mean_squared_error(y_test, y_pred_elastic)))\n",
    "print('LinearRegressor Mean Absolute Percentage Error:', metrics.mean_absolute_percentage_error(y_test, y_pred_elastic)*100)\n",
    "print('LinearRegressor Mean Squared Logarithmic Error', np.log(metrics.mean_squared_error(y_test, y_pred_linear)))\n",
    "\n",
    "print('\\n')\n",
    "\n",
    "print('DTR Mean Absolute Error:', metrics.mean_absolute_error(y_test, y_pred_dtr))\n",
    "print('DTR Mean Squared Error:', metrics.mean_squared_error(y_test, y_pred_dtr))\n",
    "print('DTR Root Mean Squared Error:', np.sqrt(metrics.mean_squared_error(y_test, y_pred_dtr)))\n",
    "print('DTR Mean Absolute Percentage Error:', metrics.mean_absolute_percentage_error(y_test, y_pred_dtr)*100)\n",
    "print('DTR Mean Squared Logarithmic Error', np.log(metrics.mean_squared_error(y_test, y_pred_dtr)))\n",
    "\n",
    "print('\\n')\n",
    "\n",
    "print('RFR Mean Absolute Error:', metrics.mean_absolute_error(y_test, y_pred_forest))\n",
    "print('RFR Mean Squared Error:', metrics.mean_squared_error(y_test, y_pred_forest))\n",
    "print('RFR Root Mean Squared Error:', np.sqrt(metrics.mean_squared_error(y_test, y_pred_forest)))\n",
    "print('RFR Mean Absolute Percentage Error:', metrics.mean_absolute_percentage_error(y_test, y_pred_forest)*100)\n",
    "print('RFR Mean Squared Logarithmic Error', np.log(metrics.mean_squared_error(y_test, y_pred_forest)))\n",
    "\n",
    "print('\\n')\n",
    "\n",
    "\n",
    "print('XGBoost Mean Absolute Error:', metrics.mean_absolute_error(y_test, y_pred_xgboost))\n",
    "print('XGBoost Mean Squared Error:', metrics.mean_squared_error(y_test, y_pred_xgboost))\n",
    "print('XGBoost Root Mean Squared Error:', np.sqrt(metrics.mean_squared_error(y_test, y_pred_xgboost)))\n",
    "print('XGBoost Mean Absolute Percentage Error:', metrics.mean_absolute_percentage_error(y_test, y_pred_xgboost)*100)\n",
    "print('XGBoost Mean Squared Logarithmic Error', np.log(metrics.mean_squared_error(y_test, y_pred_xgboost)))"
   ]
  },
  {
   "cell_type": "code",
   "execution_count": 30,
   "id": "b9a523be",
   "metadata": {},
   "outputs": [
    {
     "data": {
      "image/png": "[encoded data removed]",
      "text/plain": [
       "<Figure size 1440x720 with 1 Axes>"
      ]
     },
     "metadata": {
      "needs_background": "light"
     },
     "output_type": "display_data"
    }
   ],
   "source": [
    "## Would be a great visual for our dashboard in telling our story and why we chose our decision\n",
    "\n",
    "# We would want to visualize the predicted values in comparison to the real values in the test set: \n",
    "\n",
    "fig, ax = plt.subplots(figsize=(20,10)) \n",
    "\n",
    "# Scatterplots of predictions\n",
    "sns.scatterplot(x=y_test, y=y_pred_linear, alpha=0.5, lw=1, ec='black', ax=ax, label='Linear Regression')\n",
    "sns.scatterplot(x=y_test, y=y_pred_dtr, alpha=0.5, lw=1, ec='black', ax=ax, label='Decision Tree')\n",
    "sns.scatterplot(x=y_test, y=y_pred_forest, alpha=0.5, lw=1, ec='black', ax=ax, label='Random Forest')\n",
    "sns.scatterplot(x=y_test, y=y_pred_xgboost, alpha=0.5, lw=1, ec='black', ax=ax, label='XGBoost')\n",
    "\n",
    "# Diagonal reference line\n",
    "lims = [0, max(y_test.max(), y_test.max())]\n",
    "plt.plot(lims, lims, lw=1, color='black')\n",
    "\n",
    "\n",
    "# Visual: \n",
    "# Diagonal reference line\n",
    "lims = [0, max(y_test.max(), y_test.max())]\n",
    "\n",
    "# Legend and tick styling\n",
    "plt.legend(prop={'size': 14})\n",
    "plt.ticklabel_format(useOffset=False, style='plain')\n",
    "plt.xticks(fontsize=20)\n",
    "plt.yticks(fontsize=20)\n",
    "\n",
    "plt.show()"
   ]
  },
  {
   "cell_type": "code",
   "execution_count": 31,
   "id": "e22591ab",
   "metadata": {},
   "outputs": [],
   "source": [
    "# Decide on Loss Function:\n",
    "\n",
    "# 1. Mean Absolute Error (MAE) \n",
    "# 2. Mean Squared Error (MSE) \n",
    "# 3. Root Mean Squared Error (RMSE)\n",
    "# 4. Mean Absolute Percentage Error (MAPE)\n",
    "# 5. Mean Squared Logarithmic Error (MSLE \n",
    "\n",
    "# Importance of Loss Function Decision: The metric that we use will let us know whether our model is doing well or not, and then we align the metric to the loss function\n",
    "# Training a simple neural network  and compare our loss function selection"
   ]
  },
  {
   "cell_type": "code",
   "execution_count": 32,
   "id": "0a10a956",
   "metadata": {},
   "outputs": [],
   "source": [
    "# From our preliminary model we are able to see that Random Forest provides the most accurate results \n",
    "# For deliverable 3 we can furhter investigate more into other algorithms and fine-tune our variables "
   ]
  },
  {
   "cell_type": "markdown",
   "id": "860bd0a7",
   "metadata": {},
   "source": [
    "# Deep Learning"
   ]
  },
  {
   "cell_type": "code",
   "execution_count": 33,
   "id": "6ada152a",
   "metadata": {},
   "outputs": [],
   "source": [
    "def define_model(loss_func):\n",
    "    # Starting out with placeholder, single-layer network with 64 neurons each (educated guess)\n",
    "    model = keras.Sequential([\n",
    "        layers.Dense(64, activation='relu', input_shape=[X_train.shape[1]]),\n",
    "        layers.Dropout(0.3, seed=2),\n",
    "        layers.Dense(64, activation='swish'),\n",
    "        layers.Dense(64, activation='relu'),\n",
    "        layers.Dense(1)\n",
    "    ])\n",
    "    \n",
    "    # Placeholder optimizer until we test different ones\n",
    "    optimizer = tf.keras.optimizers.RMSprop(learning_rate=0.001)\n",
    "    \n",
    "    model.compile(loss=loss_func,\n",
    "                  optimizer=optimizer,\n",
    "                  metrics=['mae', 'mse', 'mape'])\n",
    "    \n",
    "    return model"
   ]
  },
  {
   "cell_type": "code",
   "execution_count": null,
   "id": "970634ef",
   "metadata": {},
   "outputs": [],
   "source": [
    "import keras\n",
    "import keras.utils\n",
    "from keras import utils as np_utils\n",
    "from keras.models import Sequential\n",
    "from keras.layers import Dense, Dropout, Activation\n",
    "from keras.optimizers import gradient_descent_v2\n",
    "from tensorflow.keras import layers\n"
   ]
  },
  {
   "cell_type": "code",
   "execution_count": 1,
   "id": "48471765",
   "metadata": {},
   "outputs": [
    {
     "ename": "NameError",
     "evalue": "name 'define_model' is not defined",
     "output_type": "error",
     "traceback": [
      "\u001b[1;31m---------------------------------------------------------------------------\u001b[0m",
      "\u001b[1;31mNameError\u001b[0m                                 Traceback (most recent call last)",
      "\u001b[1;32m~\\AppData\\Local\\Temp\\ipykernel_3588\\3581764668.py\u001b[0m in \u001b[0;36m<module>\u001b[1;34m\u001b[0m\n\u001b[0;32m      3\u001b[0m \u001b[1;33m\u001b[0m\u001b[0m\n\u001b[0;32m      4\u001b[0m \u001b[1;32mfor\u001b[0m \u001b[0mindex\u001b[0m\u001b[1;33m,\u001b[0m \u001b[0mfunc\u001b[0m \u001b[1;32min\u001b[0m \u001b[0menumerate\u001b[0m\u001b[1;33m(\u001b[0m\u001b[0mloss_functions\u001b[0m\u001b[1;33m,\u001b[0m \u001b[1;36m1\u001b[0m\u001b[1;33m)\u001b[0m\u001b[1;33m:\u001b[0m\u001b[1;33m\u001b[0m\u001b[1;33m\u001b[0m\u001b[0m\n\u001b[1;32m----> 5\u001b[1;33m     \u001b[0mmodel\u001b[0m \u001b[1;33m=\u001b[0m \u001b[0mdefine_model\u001b[0m\u001b[1;33m(\u001b[0m\u001b[0mfunc\u001b[0m\u001b[1;33m)\u001b[0m\u001b[1;33m\u001b[0m\u001b[1;33m\u001b[0m\u001b[0m\n\u001b[0m\u001b[0;32m      6\u001b[0m     history = model.fit(\n\u001b[0;32m      7\u001b[0m         \u001b[0mX_train\u001b[0m\u001b[1;33m,\u001b[0m \u001b[0my_train\u001b[0m\u001b[1;33m,\u001b[0m\u001b[1;33m\u001b[0m\u001b[1;33m\u001b[0m\u001b[0m\n",
      "\u001b[1;31mNameError\u001b[0m: name 'define_model' is not defined"
     ]
    }
   ],
   "source": [
    "loss_functions = ['mse', 'mae', 'huber_loss', 'mape', 'mean_squared_logarithmic_error']\n",
    "histories = []\n",
    "\n",
    "for index, func in enumerate(loss_functions, 1):\n",
    "    model = define_model(func)\n",
    "    history = model.fit(\n",
    "        X_train, y_train,\n",
    "        epochs=70,\n",
    "        validation_split=0.2,\n",
    "        verbose=0)\n",
    "    loss, mae, mse, mape = model.evaluate(X_test, y_test, verbose=0)\n",
    "    print(f'Finished training model {index} with {func} loss function | MAE: {mae:.2f}, MSE: {mse:.2f}, MAPE: {mape:.2f}')\n",
    "    histories.append(history)"
   ]
  },
  {
   "cell_type": "code",
   "execution_count": null,
   "id": "fe2188fa",
   "metadata": {},
   "outputs": [],
   "source": []
  },
  {
   "cell_type": "code",
   "execution_count": null,
   "id": "1646811f",
   "metadata": {},
   "outputs": [],
   "source": []
  },
  {
   "cell_type": "code",
   "execution_count": null,
   "id": "25cfb6a3",
   "metadata": {},
   "outputs": [],
   "source": []
  }
 ],
 "metadata": {
  "kernelspec": {
   "display_name": "hope",
   "language": "python",
   "name": "hope"
  },
  "language_info": {
   "codemirror_mode": {
    "name": "ipython",
    "version": 3
   },
   "file_extension": ".py",
   "mimetype": "text/x-python",
   "name": "python",
   "nbconvert_exporter": "python",
   "pygments_lexer": "ipython3",
   "version": "3.7.13"
  }
 },
 "nbformat": 4,
 "nbformat_minor": 5
}
